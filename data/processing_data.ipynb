{
 "cells": [
  {
   "cell_type": "code",
   "execution_count": 13,
   "metadata": {},
   "outputs": [
    {
     "name": "stdout",
     "output_type": "stream",
     "text": [
      "   userId  movieId  rating   timestamp\n",
      "0       1      307     3.5  1256677221\n",
      "1       1      481     3.5  1256677456\n",
      "2       1     1091     1.5  1256677471\n",
      "3       1     1257     4.5  1256677460\n",
      "4       1     1449     4.5  1256677264\n"
     ]
    }
   ],
   "source": [
    "import pandas as pd\n",
    "from pandas import read_csv\n",
    "\n",
    "\"\"\"Read data\"\"\"\n",
    "ratings = read_csv(\"./ml-latest/ratings.csv\")\n",
    "print(ratings.head(5))"
   ]
  },
  {
   "cell_type": "code",
   "execution_count": 14,
   "metadata": {},
   "outputs": [
    {
     "name": "stdout",
     "output_type": "stream",
     "text": [
      "[     1      2      3 ... 283226 283227 283228]\n"
     ]
    }
   ],
   "source": [
    "\"\"\"List userId\"\"\"\n",
    "list_userId= ratings.userId.unique()\n",
    "print(list_userId)"
   ]
  },
  {
   "cell_type": "code",
   "execution_count": null,
   "metadata": {},
   "outputs": [],
   "source": [
    "import pandas as pd\n",
    "def splitData (userId):\n",
    "    ratingUser01 = ratings[ratings.userId==userId]\n",
    "    n_ratingUser01 = len(ratingUser01)\n",
    "    ratingUser01_sorted = ratingUser01.sort_values(by=['timestamp'])\n",
    "    n_train = int(round((n_ratingUser01*0.6),0))\n",
    "\n",
    "    n_val = int(round((n_ratingUser01 - n_train)/2,0))\n",
    "    n_test = n_ratingUser01 - n_train - n_val\n",
    "\n",
    "    data_trainUserId = ratingUser01_sorted.head(n_train)\n",
    "    data_valUserId = ratingUser01_sorted[n_train:n_train+n_val]\n",
    "    data_testUserId = ratingUser01_sorted[n_train+n_val:]\n",
    "    return [data_trainUserId, data_valUserId, data_testUserId]\n",
    "\n",
    "data_train, data_val, data_test = splitData(1)\n",
    "import numpy as np\n",
    "list_userId = np.delete(list_userId, 0)\n",
    "print(list_userId)\n",
    "for userId in list_userId:\n",
    "    data_trainUserId, data_valUserId, data_testUserId= splitData(userId)\n",
    "    data_train = pd.concat([data_train, data_trainUserId], ignore_index=True)\n",
    "    data_val = pd.concat([data_val, data_valUserId], ignore_index=True)\n",
    "    data_test = pd.concat([data_test, data_testUserId], ignore_index=True)\n",
    "data_train.to_csv('train_latest.csv')\n",
    "data_val.to_csv('val_latest.csv')\n",
    "data_test.to_csv('test_latest.csv')\n"
   ]
  },
  {
   "cell_type": "markdown",
   "metadata": {},
   "source": [
    "### Duy Phước"
   ]
  },
  {
   "cell_type": "code",
   "execution_count": 9,
   "metadata": {},
   "outputs": [],
   "source": [
    "# Create list file csv \n",
    "import shutil\n",
    "for i in range (2,28):\n",
    "    filepath = './datasets/data-split/test_' + str(i) + '.csv'\n",
    "    shutil.copy('./datasets/data-split/test_1.csv', filepath)"
   ]
  },
  {
   "cell_type": "code",
   "execution_count": 11,
   "metadata": {},
   "outputs": [],
   "source": [
    "import pandas as pd\n",
    "df= pd.read_csv('./ml-latest/ratings.csv')\n",
    "df1=df.groupby('userId')"
   ]
  },
  {
   "cell_type": "code",
   "execution_count": 17,
   "metadata": {},
   "outputs": [
    {
     "name": "stdout",
     "output_type": "stream",
     "text": [
      "Done file 1.csv\n",
      "Done file 2.csv\n",
      "Done file 3.csv\n",
      "Done file 4.csv\n",
      "Done file 5.csv\n",
      "Done file 6.csv\n",
      "Done file 7.csv\n",
      "Done file 8.csv\n",
      "Done file 9.csv\n",
      "Done file 10.csv\n",
      "Done file 11.csv\n",
      "Done file 12.csv\n",
      "Done file 13.csv\n",
      "Done file 14.csv\n",
      "Done file 15.csv\n",
      "Done file 16.csv\n",
      "Done file 17.csv\n",
      "Done file 18.csv\n",
      "Done file 19.csv\n",
      "Done file 20.csv\n",
      "Done file 21.csv\n",
      "Done file 22.csv\n",
      "Done file 23.csv\n",
      "Done file 24.csv\n",
      "Done file 25.csv\n",
      "Done file 26.csv\n",
      "Done file 27.csv\n"
     ]
    }
   ],
   "source": [
    "start = 1\n",
    "for n in range(1,28):\n",
    "    filepath = './datasets/data-split/test_' + str(n) + '.csv'\n",
    "    sf=pd.read_csv(filepath)\n",
    "    end = start + 10000\n",
    "    if (n == 27):\n",
    "        # 283228 is userId lastest\n",
    "        end = 283228 + 1\n",
    "    for i in range(start,end):\n",
    "        df2 = df1.get_group(i)\n",
    "        df2 = df2.sort_values('timestamp')\n",
    "        df2['index']= range(1, len(df2) + 1)\n",
    "        df3=df2[df2['index']>(int(len(df2)*0.7))]\n",
    "        sf=pd.concat([sf,df3])\n",
    "    sf.to_csv(filepath)\n",
    "    start = end\n",
    "    print('Done file ' + str(n) + '.csv')"
   ]
  },
  {
   "cell_type": "code",
   "execution_count": null,
   "metadata": {},
   "outputs": [],
   "source": [
    "# importing libraries\n",
    "import pandas as pd\n",
    "import glob\n",
    "import os\n",
    "  \n",
    "# merging the files\n",
    "# Location store list file csv\n",
    "joined_files = os.path.join(\"./datasets/data-split\", \"*.csv\")\n",
    "  \n",
    "# A list of all joined files is returned\n",
    "joined_list = glob.glob(joined_files)\n",
    "  \n",
    "# Finally, the files are joined\n",
    "df = pd.concat(map(pd.read_csv, joined_list), ignore_index=True)\n",
    "df = df.sort_values(by=['userId'])\n",
    "# If userId last == 283228 so correct data\n",
    "print (df['userId'].iloc[-1])\n",
    "# Store dataframe to csv file not include index - first columns\n",
    "df.to_csv('./datasets/data-split/testfinal.csv',mode = 'w', index=False)"
   ]
  }
 ],
 "metadata": {
  "kernelspec": {
   "display_name": "Python 3.10.0 64-bit",
   "language": "python",
   "name": "python3"
  },
  "language_info": {
   "codemirror_mode": {
    "name": "ipython",
    "version": 3
   },
   "file_extension": ".py",
   "mimetype": "text/x-python",
   "name": "python",
   "nbconvert_exporter": "python",
   "pygments_lexer": "ipython3",
   "version": "3.10.0"
  },
  "orig_nbformat": 4,
  "vscode": {
   "interpreter": {
    "hash": "7d1edf6b6f9f90690d614e93b9aa31e0491e377e3cd635605f807742e2982f8d"
   }
  }
 },
 "nbformat": 4,
 "nbformat_minor": 2
}
